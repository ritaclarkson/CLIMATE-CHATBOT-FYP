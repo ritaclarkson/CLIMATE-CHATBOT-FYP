{
 "cells": [
  {
   "cell_type": "markdown",
   "metadata": {},
   "source": [
    "## Simple retrieval-based chatbot. <br>\n",
    "\n",
    "Start with loading needed packages\n"
   ]
  },
  {
   "cell_type": "code",
   "execution_count": 49,
   "metadata": {
    "scrolled": true
   },
   "outputs": [],
   "source": [
    "#import libraries\n",
    "from newspaper import Article\n",
    "from sklearn.feature_extraction.text import CountVectorizer\n",
    "from sklearn.metrics.pairwise import cosine_similarity\n",
    "import nltk\n",
    "import numpy as np\n",
    "import random\n",
    "from nltk.tokenize import sent_tokenize, word_tokenize\n"
   ]
  },
  {
   "cell_type": "code",
   "execution_count": 50,
   "metadata": {},
   "outputs": [
    {
     "data": {
      "text/plain": [
       "True"
      ]
     },
     "execution_count": 50,
     "metadata": {},
     "output_type": "execute_result"
    }
   ],
   "source": [
    "#loading a predefined vocabulary of punctuation symbols to remove later\n",
    "nltk.download('punkt', quiet=True) # Download the punkt package"
   ]
  },
  {
   "cell_type": "markdown",
   "metadata": {},
   "source": [
    "## Getting the text source for retrieval base\n",
    "<br>\n",
    "Here you can add your file or article. Once you have your text in string or array if strings, then input that to nltk.sent_tokenize"
   ]
  },
  {
   "cell_type": "code",
   "execution_count": 51,
   "metadata": {},
   "outputs": [],
   "source": [
    "# Get the text-source\n",
    "text = Article('https://www.metoffice.gov.uk/weather/climate-change/causes-of-climate-change')\n",
    "text.download() # Load URL to the engine\n",
    "text.parse() # Retrieve text from the URL\n",
    "text.nlp() # Apply NLP tokenization and filtering\n",
    "corpus = text.text #Store the article text into corpus\n",
    "\n",
    "#some filtering and additional pre-processing. Only specific to that article\n",
    "corpus = corpus.replace('\\n\\n','. ')\n",
    "\n",
    "sentence_list = nltk.sent_tokenize(str(corpus))# txt to a list of sentences "
   ]
  },
  {
   "cell_type": "markdown",
   "metadata": {},
   "source": [
    "Parsing some articles from the web may lead to many small sentences, like headlines, so, we'll select only those sentences that are at least 50 characteers long"
   ]
  },
  {
   "cell_type": "code",
   "execution_count": 52,
   "metadata": {},
   "outputs": [
    {
     "data": {
      "text/plain": [
       "['The climate on Earth has been changing since it formed 4.5 billion years ago.',\n",
       " 'Until recently, natural factors have been the cause of these changes.',\n",
       " \"Natural influences on the climate include volcanic eruptions, changes in the orbit of the Earth, and shifts in the Earth's crust (known as plate tectonics).. Over the past one million years, the Earth has experienced a series of ice-ages ('glacial periods') and warmer periods ('interglacial').\",\n",
       " \"Glacial and interglacial periods cycle roughly every 100,000 years, caused by changes in Earth's orbit around the sun.\",\n",
       " 'For the past few thousand years, Earth has been in an interglacial period with a constant temperature..']"
      ]
     },
     "execution_count": 52,
     "metadata": {},
     "output_type": "execute_result"
    }
   ],
   "source": [
    "sentence_list = [x for x in sentence_list if len(x) > 50]\n",
    "sentence_list[:5]"
   ]
  },
  {
   "cell_type": "code",
   "execution_count": 53,
   "metadata": {},
   "outputs": [],
   "source": [
    "#Function to return a random greeting response to a users greeting\n",
    "def greeting_response(text):\n",
    "  #Convert the text to be all lowercase\n",
    "  text = text.lower()\n",
    "  # Keyword Matching\n",
    "  #Greeting responses back to the user from the bot\n",
    "  bot_greetings = [\"Hi there\",\"Hi, ask me something\", \"hey\", \"hi\",  \"hello\"]\n",
    "  #Greeting input from the user\n",
    "  user_greetings = [\"hi\", \"hello\",  \"start\", \"let'sgo\",  \"what's up\",\"hey bot\"] \n",
    "  \n",
    "  #If user's input is a greeting, return a randomly chosen greeting response\n",
    "  for word in text.split():\n",
    "    if word in user_greetings:\n",
    "        return random.choice(bot_greetings)\n"
   ]
  },
  {
   "cell_type": "markdown",
   "metadata": {},
   "source": [
    "Edit here the similarity function calculation here if you want"
   ]
  },
  {
   "cell_type": "code",
   "execution_count": 54,
   "metadata": {},
   "outputs": [],
   "source": [
    "# Generate the response\n",
    "def bot_response(user_input):\n",
    "    \n",
    "    user_input = user_input.lower()#User input to lower case\n",
    "    \n",
    "    sentence_list.append(user_input)#Append the users sentence to the list of known sentences\n",
    "    count_vectorizer = CountVectorizer(ngram_range = (1,2)).fit_transform(sentence_list) #Create unigram and bigram vocabularies\n",
    "    \n",
    "    #similarity function change here\n",
    "    similarity_scores = cosine_similarity(count_vectorizer[-1], count_vectorizer) #Get metrics how similar sentences from the base sentences with uesr input\n",
    "    \n",
    "    flattened = similarity_scores.flatten() #from 2d array to 1d array of values\n",
    "    enumerated_scores = [(index,score) for index,score in enumerate(flattened)]\n",
    "    scores_sorted = sorted(enumerated_scores, key=lambda results: results[1], reverse = True) #sorting by probabilities\n",
    "    \n",
    "    response_tuple = scores_sorted[1] #take the second best sentence, because the best sentence score would be user input sentence to each other\n",
    "    \n",
    "    if response_tuple[1] > 0 :\n",
    "        bot_response = sentence_list[response_tuple[0]]\n",
    "    else:\n",
    "        bot_response = \"I don't know what you mean, sorry\"\n",
    "        \n",
    "    #we don't want to keep user input in our data     \n",
    "    sentence_list.remove(user_input) #Remove the users response from the sentence tokens\n",
    "       \n",
    "    return bot_response"
   ]
  },
  {
   "cell_type": "markdown",
   "metadata": {},
   "source": [
    "## Bot. \n",
    "<br>\n",
    "To stop it, type 'bye' or anything else from exit_list phrases.\n",
    "<br>\n",
    "User input sentence is put through similarity scoring with sentences from article sentences"
   ]
  },
  {
   "cell_type": "code",
   "execution_count": 58,
   "metadata": {
    "scrolled": true
   },
   "outputs": [
    {
     "name": "stdout",
     "output_type": "stream",
     "text": [
      "Climate TalkBot: Hi there. I will try to answer your questions about Climate Change. If you want to stop chatting   just type 'bye'\n",
      "You:Hi\n",
      "TalkBot: hi\n",
      "++++++++++++++++++++++++++++++++++++++++++\n",
      "You:tell me about deforestation \n",
      "TalkBot: Deforestation – Forests remove and store carbon dioxide from the atmosphere.\n",
      "You:what will happen when trees burn? \n",
      "TalkBot: Not only that, trees release the carbon they stored when we burn them.\n",
      "You:kjcldjnsjnvjdnjo\n",
      "TalkBot: I don't know what you mean, sorry\n",
      "You:Choo choo choo\n",
      "TalkBot: I don't know what you mean, sorry\n",
      "You:exit\n",
      "Climate TalkBot: Chat with you later !\n"
     ]
    }
   ],
   "source": [
    "#Start the chat\n",
    "print(\"Climate TalkBot: Hi there. I will try to answer your questions about Climate Change. If you want to stop chatting   just type 'bye'\")\n",
    "exit_list = ['exit', 'see you later','bye', 'quit', 'abort','stop']\n",
    "while(True):\n",
    "    user_input = input(\"You:\")\n",
    "    \n",
    "    if(user_input.lower() in exit_list):\n",
    "      print(\"Climate TalkBot: Chat with you later !\")\n",
    "      break\n",
    "        \n",
    "    else:\n",
    "        if(greeting_response(user_input)!= None):\n",
    "            print(\"TalkBot: \" + greeting_response(user_input))\n",
    "            print('++++++++++++++++++++++++++++++++++++++++++')\n",
    "        else:\n",
    "            print(\"TalkBot: \" + bot_response(user_input))\n",
    "            ('++++++++++++++++++++++++++++++++++++++++++')\n"
   ]
  },
  {
   "cell_type": "code",
   "execution_count": null,
   "metadata": {},
   "outputs": [],
   "source": []
  }
 ],
 "metadata": {
  "kernelspec": {
   "display_name": "Python 3",
   "language": "python",
   "name": "python3"
  },
  "language_info": {
   "codemirror_mode": {
    "name": "ipython",
    "version": 3
   },
   "file_extension": ".py",
   "mimetype": "text/x-python",
   "name": "python",
   "nbconvert_exporter": "python",
   "pygments_lexer": "ipython3",
   "version": "3.8.5"
  }
 },
 "nbformat": 4,
 "nbformat_minor": 2
}
